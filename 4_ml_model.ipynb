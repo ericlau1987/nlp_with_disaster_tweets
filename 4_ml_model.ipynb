{
 "cells": [
  {
   "cell_type": "code",
   "execution_count": 1,
   "metadata": {},
   "outputs": [
    {
     "name": "stdout",
     "output_type": "stream",
     "text": [
      "Tensor Flow Version: 2.6.0\n",
      "Keras Version: 2.6.0\n",
      "\n",
      "Python 3.9.7 | packaged by conda-forge | (default, Sep 29 2021, 19:24:02) \n",
      "[Clang 11.1.0 ]\n",
      "Pandas 1.3.4\n",
      "Scikit-Learn 1.0.1\n",
      "GPU is available\n"
     ]
    }
   ],
   "source": [
    "# What version of Python do you have?\n",
    "import sys\n",
    "\n",
    "import tensorflow.keras\n",
    "import pandas as pd\n",
    "import sklearn as sk\n",
    "import tensorflow as tf\n",
    "\n",
    "print(f\"Tensor Flow Version: {tf.__version__}\")\n",
    "print(f\"Keras Version: {tensorflow.keras.__version__}\")\n",
    "print()\n",
    "print(f\"Python {sys.version}\")\n",
    "print(f\"Pandas {pd.__version__}\")\n",
    "print(f\"Scikit-Learn {sk.__version__}\")\n",
    "gpu = len(tf.config.list_physical_devices('GPU'))>0\n",
    "print(\"GPU is\", \"available\" if gpu else \"NOT AVAILABLE\")"
   ]
  },
  {
   "cell_type": "code",
   "execution_count": 2,
   "metadata": {},
   "outputs": [],
   "source": [
    "from nltk.corpus import stopwords\n",
    "from nltk.util import ngrams\n",
    "from sklearn.feature_extraction.text import CountVectorizer\n",
    "stop=set(stopwords.words('english'))\n",
    "from nltk.tokenize import word_tokenize\n",
    "# import gensim\n",
    "import string\n",
    "from tensorflow.keras.preprocessing.text import Tokenizer\n",
    "from tensorflow.keras.preprocessing.sequence import pad_sequences\n",
    "from tqdm import tqdm\n",
    "from tensorflow.keras.models import Sequential\n",
    "from tensorflow.keras.layers import Embedding,LSTM,Dense,SpatialDropout1D\n",
    "from tensorflow.keras.initializers import Constant\n",
    "from sklearn.model_selection import train_test_split\n",
    "# from tensorflow.keras.optimizers import Adam\n",
    "from tensorflow.keras.optimizers import Adam\n",
    "from tensorflow.keras.optimizers import SGD"
   ]
  },
  {
   "cell_type": "code",
   "execution_count": 4,
   "metadata": {},
   "outputs": [],
   "source": [
    "import pandas as pd\n",
    "import numpy as np"
   ]
  },
  {
   "cell_type": "code",
   "execution_count": 5,
   "metadata": {},
   "outputs": [],
   "source": [
    "from sqlalchemy import create_engine\n",
    "import pymysql\n",
    "\n",
    "sqlEngine = create_engine('mysql+pymysql://root:@127.0.0.1/nlp_with_disaster_tweets', pool_recycle=3600)\n",
    "dbConnection = sqlEngine.connect()"
   ]
  },
  {
   "cell_type": "markdown",
   "metadata": {},
   "source": [
    "### Read combined data"
   ]
  },
  {
   "cell_type": "code",
   "execution_count": 6,
   "metadata": {},
   "outputs": [],
   "source": [
    "df_combined = pd.read_sql_query(\n",
    "'''\n",
    "select *\n",
    "from transformed_combination\n",
    "'''\n",
    ",dbConnection)\n",
    "\n",
    "df_train = df_combined[df_combined['source_file']=='train']\n",
    "df_test = df_combined[df_combined['source_file']=='test']"
   ]
  },
  {
   "cell_type": "code",
   "execution_count": 7,
   "metadata": {},
   "outputs": [],
   "source": [
    "def create_corpus(df: pd.DataFrame) ->list:\n",
    "    '''\n",
    "    The function is to convert column \"text\" into a list of words at each row\n",
    "\n",
    "    input:\n",
    "    df: dataframe where text whose words are splited\n",
    "\n",
    "    output:\n",
    "    return a list of words for each row\n",
    "    '''\n",
    "    corpus = []\n",
    "    \n",
    "    for tweet in tqdm(df['text']):\n",
    "        words = [word.lower() for word in word_tokenize(tweet) if (word.isalpha() == 1) & (word not in stop)]\n",
    "\n",
    "        corpus.append(words)\n",
    "\n",
    "    return corpus\n"
   ]
  },
  {
   "cell_type": "code",
   "execution_count": 8,
   "metadata": {},
   "outputs": [
    {
     "name": "stderr",
     "output_type": "stream",
     "text": [
      "100%|██████████| 10876/10876 [00:01<00:00, 10795.83it/s]\n"
     ]
    }
   ],
   "source": [
    "corpus = create_corpus(df_combined)"
   ]
  },
  {
   "cell_type": "markdown",
   "metadata": {},
   "source": [
    "#### Convert glove.6B.100d.txt to a dictionary"
   ]
  },
  {
   "cell_type": "code",
   "execution_count": 9,
   "metadata": {},
   "outputs": [],
   "source": [
    "embedding_dict={}\n",
    "with open('../../Project_data/nlp_with_disaster_tweets/glove.6B.100d.txt','r') as f:\n",
    "    for line in f:\n",
    "        values=line.split()\n",
    "        word=values[0]\n",
    "        vectors=np.asarray(values[1:],'float32')\n",
    "        embedding_dict[word]=vectors\n",
    "f.close()"
   ]
  },
  {
   "cell_type": "markdown",
   "metadata": {},
   "source": [
    "<font color='red'> ** Need to understand the following cells ** </font>"
   ]
  },
  {
   "cell_type": "markdown",
   "metadata": {},
   "source": [
    "<a id=\"Summary\"></a>\n",
    "<div class=\"alert alert-block alert-success\">\n",
    "    <font color = 'black'>\n",
    "        <h2>Tokenization</h2>\n",
    "        <h3>What is Tokenization?</h3>\n",
    "    </font>\n",
    "</div>"
   ]
  },
  {
   "cell_type": "code",
   "execution_count": 10,
   "metadata": {},
   "outputs": [],
   "source": [
    "MAX_LEN=50\n",
    "tokenizer_obj=Tokenizer()\n",
    "# Updates internal vocabulary based on a list of texts\n",
    "# fit_on_text: the function is to return the index of each word\n",
    "# by following instructions:\n",
    "# 1. get frequency for each word for the whole list (e.g. corpus)\n",
    "# 2. sort the word by frequency of words by descending\n",
    "# 3. create index by the order of the words' frequency from step 2.\n",
    "# For example, the most frequency of a word is 1 \n",
    "tokenizer_obj.fit_on_texts(corpus)\n",
    "# texts_to_sequences: use the index from the function fit_on_text\n",
    "# to map each word to index\n",
    "sequences=tokenizer_obj.texts_to_sequences(corpus)\n",
    "# make each list extend to max_len. If the number of items is lower than max_len,\n",
    "# append 0 ; else truncating the bottom items until the length of the list same as max_len\n",
    "tweet_pad=pad_sequences(sequences,maxlen=MAX_LEN,truncating='post',padding='post')"
   ]
  },
  {
   "cell_type": "markdown",
   "metadata": {},
   "source": [
    "The following scripts is a simple versioin of function fit_on_text<br>\n",
    "The original one is in the following linke <https://github.com/keras-team/keras-preprocessing/blob/1.1.2/keras_preprocessing/text.py#L199-L251>"
   ]
  },
  {
   "cell_type": "code",
   "execution_count": 11,
   "metadata": {},
   "outputs": [],
   "source": [
    "# document_count = 0\n",
    "# word_counts, word_docs = {}, {}\n",
    "\n",
    "# for text in corpus:\n",
    "#     document_count+=1\n",
    "#     text = [text_elem.lower() for text_elem in text]\n",
    "#     seq = text \n",
    "\n",
    "#     for w in seq:\n",
    "#         if w in word_counts:\n",
    "#             word_counts[w] += 1\n",
    "#         else:\n",
    "#             word_counts[w] = 1\n",
    "\n",
    "#     for w in set(seq):\n",
    "#         if w in word_docs:\n",
    "#             word_docs[w] += 1\n",
    "#         else:\n",
    "#             word_docs[w] = 1\n",
    "# wcounts = list(word_counts.items())\n",
    "# wcounts.sort(key=lambda x: x[1], reverse=True)\n",
    "\n",
    "# sorted_voc = []\n",
    "# sorted_voc.extend(wc[0] for wc in wcounts)\n",
    "\n",
    "# word_index = dict(\n",
    "#             zip(sorted_voc, list(range(1, len(sorted_voc) + 1))))\n",
    "\n",
    "# index_word = {c: w for w, c in word_index.items()}\n",
    "# index_docs={}\n",
    "# for w, c in list(word_docs.items()):\n",
    "#     index_docs[word_index[w]] = c"
   ]
  },
  {
   "cell_type": "code",
   "execution_count": 11,
   "metadata": {},
   "outputs": [
    {
     "name": "stdout",
     "output_type": "stream",
     "text": [
      "Number of unique words: 18736\n"
     ]
    }
   ],
   "source": [
    "word_index=tokenizer_obj.word_index\n",
    "print('Number of unique words:',len(word_index))"
   ]
  },
  {
   "cell_type": "code",
   "execution_count": 13,
   "metadata": {},
   "outputs": [
    {
     "name": "stderr",
     "output_type": "stream",
     "text": [
      "100%|██████████| 18736/18736 [00:00<00:00, 830342.87it/s]\n"
     ]
    }
   ],
   "source": [
    "num_words=len(word_index)+1\n",
    "# create a new array with num_words sub-list and 100 items in the sub-list filled with zero\n",
    "embedding_matrix=np.zeros((num_words,100))\n",
    "\n",
    "# the loop is to fill glove.6B.100d.txt for each word\n",
    "for word,i in tqdm(word_index.items()):\n",
    "    if i > num_words:\n",
    "        continue\n",
    "    \n",
    "    emb_vec=embedding_dict.get(word)\n",
    "    if emb_vec is not None:\n",
    "        embedding_matrix[i]=emb_vec"
   ]
  },
  {
   "cell_type": "markdown",
   "metadata": {},
   "source": [
    "<font color='red'> to be investigated!!!!</font>"
   ]
  },
  {
   "cell_type": "code",
   "execution_count": 14,
   "metadata": {},
   "outputs": [],
   "source": [
    "model=Sequential()\n",
    "\n",
    "embedding=Embedding(num_words,100,embeddings_initializer=Constant(embedding_matrix),\n",
    "                   input_length=MAX_LEN,trainable=False)\n",
    "\n",
    "model.add(embedding)\n",
    "model.add(SpatialDropout1D(0.2))\n",
    "model.add(LSTM(64, dropout=0.2, recurrent_dropout=0))\n",
    "model.add(Dense(1, activation='sigmoid'))\n",
    "\n",
    "\n",
    "optimzer=Adam(learning_rate=1e-5)\n",
    "\n",
    "model.compile(loss='binary_crossentropy',optimizer=optimzer,metrics=['accuracy'])"
   ]
  },
  {
   "cell_type": "code",
   "execution_count": 15,
   "metadata": {},
   "outputs": [
    {
     "name": "stdout",
     "output_type": "stream",
     "text": [
      "Model: \"sequential_1\"\n",
      "_________________________________________________________________\n",
      "Layer (type)                 Output Shape              Param #   \n",
      "=================================================================\n",
      "embedding (Embedding)        (None, 50, 100)           1873700   \n",
      "_________________________________________________________________\n",
      "spatial_dropout1d (SpatialDr (None, 50, 100)           0         \n",
      "_________________________________________________________________\n",
      "lstm (LSTM)                  (None, 64)                42240     \n",
      "_________________________________________________________________\n",
      "dense (Dense)                (None, 1)                 65        \n",
      "=================================================================\n",
      "Total params: 1,916,005\n",
      "Trainable params: 42,305\n",
      "Non-trainable params: 1,873,700\n",
      "_________________________________________________________________\n"
     ]
    }
   ],
   "source": [
    "model.summary()"
   ]
  },
  {
   "cell_type": "code",
   "execution_count": 16,
   "metadata": {},
   "outputs": [],
   "source": [
    "train=tweet_pad[:df_train.shape[0]]\n",
    "test=tweet_pad[df_train.shape[0]:]"
   ]
  },
  {
   "cell_type": "code",
   "execution_count": 17,
   "metadata": {},
   "outputs": [
    {
     "name": "stdout",
     "output_type": "stream",
     "text": [
      "Shape of train (6471, 50)\n",
      "Shape of Validation  (1142, 50)\n"
     ]
    }
   ],
   "source": [
    "X_train,X_test,y_train,y_test=train_test_split(train,df_train['target'].values,test_size=0.15)\n",
    "print('Shape of train',X_train.shape)\n",
    "print(\"Shape of Validation \",X_test.shape)"
   ]
  },
  {
   "cell_type": "code",
   "execution_count": 22,
   "metadata": {},
   "outputs": [
    {
     "name": "stdout",
     "output_type": "stream",
     "text": [
      "Epoch 1/50\n",
      "1618/1618 - 36s - loss: 0.4681 - accuracy: 0.7926 - val_loss: 0.4530 - val_accuracy: 0.8056\n",
      "Epoch 2/50\n",
      "1618/1618 - 36s - loss: 0.4704 - accuracy: 0.7866 - val_loss: 0.4466 - val_accuracy: 0.8126\n",
      "Epoch 3/50\n",
      "1618/1618 - 36s - loss: 0.4725 - accuracy: 0.7860 - val_loss: 0.4516 - val_accuracy: 0.8012\n",
      "Epoch 4/50\n",
      "1618/1618 - 36s - loss: 0.4680 - accuracy: 0.7889 - val_loss: 0.4485 - val_accuracy: 0.8039\n",
      "Epoch 5/50\n",
      "1618/1618 - 36s - loss: 0.4631 - accuracy: 0.7954 - val_loss: 0.4542 - val_accuracy: 0.8030\n",
      "Epoch 6/50\n",
      "1618/1618 - 36s - loss: 0.4629 - accuracy: 0.7972 - val_loss: 0.4432 - val_accuracy: 0.8126\n",
      "Epoch 7/50\n",
      "1618/1618 - 36s - loss: 0.4623 - accuracy: 0.7912 - val_loss: 0.4413 - val_accuracy: 0.8135\n",
      "Epoch 8/50\n",
      "1618/1618 - 36s - loss: 0.4572 - accuracy: 0.7968 - val_loss: 0.4550 - val_accuracy: 0.8047\n",
      "Epoch 9/50\n",
      "1618/1618 - 36s - loss: 0.4597 - accuracy: 0.7918 - val_loss: 0.4483 - val_accuracy: 0.8065\n",
      "Epoch 10/50\n",
      "1618/1618 - 36s - loss: 0.4587 - accuracy: 0.8013 - val_loss: 0.4523 - val_accuracy: 0.8004\n",
      "Epoch 11/50\n",
      "1618/1618 - 36s - loss: 0.4562 - accuracy: 0.7963 - val_loss: 0.4435 - val_accuracy: 0.8100\n",
      "Epoch 12/50\n",
      "1618/1618 - 36s - loss: 0.4575 - accuracy: 0.7949 - val_loss: 0.4523 - val_accuracy: 0.8039\n",
      "Epoch 13/50\n",
      "1618/1618 - 36s - loss: 0.4518 - accuracy: 0.8020 - val_loss: 0.4461 - val_accuracy: 0.8056\n",
      "Epoch 14/50\n",
      "1618/1618 - 36s - loss: 0.4470 - accuracy: 0.7976 - val_loss: 0.4492 - val_accuracy: 0.8056\n",
      "Epoch 15/50\n",
      "1618/1618 - 36s - loss: 0.4543 - accuracy: 0.7968 - val_loss: 0.4588 - val_accuracy: 0.8021\n",
      "Epoch 16/50\n",
      "1618/1618 - 36s - loss: 0.4510 - accuracy: 0.7960 - val_loss: 0.4479 - val_accuracy: 0.8056\n",
      "Epoch 17/50\n",
      "1618/1618 - 36s - loss: 0.4583 - accuracy: 0.7926 - val_loss: 0.4481 - val_accuracy: 0.8056\n",
      "Epoch 18/50\n",
      "1618/1618 - 36s - loss: 0.4559 - accuracy: 0.7951 - val_loss: 0.4420 - val_accuracy: 0.8091\n",
      "Epoch 19/50\n",
      "1618/1618 - 36s - loss: 0.4515 - accuracy: 0.8013 - val_loss: 0.4543 - val_accuracy: 0.8056\n",
      "Epoch 20/50\n",
      "1618/1618 - 36s - loss: 0.4517 - accuracy: 0.7960 - val_loss: 0.4383 - val_accuracy: 0.8091\n",
      "Epoch 21/50\n",
      "1618/1618 - 36s - loss: 0.4562 - accuracy: 0.7929 - val_loss: 0.4418 - val_accuracy: 0.8082\n",
      "Epoch 22/50\n",
      "1618/1618 - 36s - loss: 0.4498 - accuracy: 0.8022 - val_loss: 0.4406 - val_accuracy: 0.8100\n",
      "Epoch 23/50\n",
      "1618/1618 - 36s - loss: 0.4484 - accuracy: 0.7993 - val_loss: 0.4437 - val_accuracy: 0.8100\n",
      "Epoch 24/50\n",
      "1618/1618 - 36s - loss: 0.4469 - accuracy: 0.8033 - val_loss: 0.4501 - val_accuracy: 0.8030\n",
      "Epoch 25/50\n",
      "1618/1618 - 36s - loss: 0.4445 - accuracy: 0.8019 - val_loss: 0.4431 - val_accuracy: 0.8065\n",
      "Epoch 26/50\n",
      "1618/1618 - 36s - loss: 0.4496 - accuracy: 0.7954 - val_loss: 0.4510 - val_accuracy: 0.8012\n",
      "Epoch 27/50\n",
      "1618/1618 - 36s - loss: 0.4456 - accuracy: 0.8008 - val_loss: 0.4342 - val_accuracy: 0.8109\n",
      "Epoch 28/50\n",
      "1618/1618 - 36s - loss: 0.4445 - accuracy: 0.8003 - val_loss: 0.4533 - val_accuracy: 0.8039\n",
      "Epoch 29/50\n",
      "1618/1618 - 36s - loss: 0.4437 - accuracy: 0.7971 - val_loss: 0.4361 - val_accuracy: 0.8091\n",
      "Epoch 30/50\n",
      "1618/1618 - 36s - loss: 0.4407 - accuracy: 0.8010 - val_loss: 0.4430 - val_accuracy: 0.8074\n",
      "Epoch 31/50\n",
      "1618/1618 - 36s - loss: 0.4457 - accuracy: 0.8005 - val_loss: 0.4384 - val_accuracy: 0.8082\n",
      "Epoch 32/50\n",
      "1618/1618 - 36s - loss: 0.4387 - accuracy: 0.8050 - val_loss: 0.4395 - val_accuracy: 0.8065\n",
      "Epoch 33/50\n",
      "1618/1618 - 36s - loss: 0.4402 - accuracy: 0.8081 - val_loss: 0.4332 - val_accuracy: 0.8144\n",
      "Epoch 34/50\n",
      "1618/1618 - 37s - loss: 0.4416 - accuracy: 0.8054 - val_loss: 0.4449 - val_accuracy: 0.8082\n",
      "Epoch 35/50\n",
      "1618/1618 - 36s - loss: 0.4430 - accuracy: 0.8053 - val_loss: 0.4305 - val_accuracy: 0.8135\n",
      "Epoch 36/50\n",
      "1618/1618 - 36s - loss: 0.4394 - accuracy: 0.8044 - val_loss: 0.4392 - val_accuracy: 0.8082\n",
      "Epoch 37/50\n",
      "1618/1618 - 37s - loss: 0.4394 - accuracy: 0.8028 - val_loss: 0.4453 - val_accuracy: 0.8074\n",
      "Epoch 38/50\n",
      "1618/1618 - 37s - loss: 0.4361 - accuracy: 0.8098 - val_loss: 0.4403 - val_accuracy: 0.8117\n",
      "Epoch 39/50\n",
      "1618/1618 - 37s - loss: 0.4338 - accuracy: 0.8067 - val_loss: 0.4373 - val_accuracy: 0.8170\n",
      "Epoch 40/50\n",
      "1618/1618 - 36s - loss: 0.4385 - accuracy: 0.8036 - val_loss: 0.4432 - val_accuracy: 0.8109\n",
      "Epoch 41/50\n",
      "1618/1618 - 37s - loss: 0.4324 - accuracy: 0.8057 - val_loss: 0.4360 - val_accuracy: 0.8144\n",
      "Epoch 42/50\n",
      "1618/1618 - 37s - loss: 0.4332 - accuracy: 0.8121 - val_loss: 0.4445 - val_accuracy: 0.8100\n",
      "Epoch 43/50\n",
      "1618/1618 - 37s - loss: 0.4332 - accuracy: 0.8067 - val_loss: 0.4380 - val_accuracy: 0.8161\n",
      "Epoch 44/50\n",
      "1618/1618 - 37s - loss: 0.4362 - accuracy: 0.8056 - val_loss: 0.4350 - val_accuracy: 0.8135\n",
      "Epoch 45/50\n",
      "1618/1618 - 36s - loss: 0.4383 - accuracy: 0.8042 - val_loss: 0.4315 - val_accuracy: 0.8152\n",
      "Epoch 46/50\n",
      "1618/1618 - 37s - loss: 0.4313 - accuracy: 0.8053 - val_loss: 0.4346 - val_accuracy: 0.8100\n",
      "Epoch 47/50\n",
      "1618/1618 - 36s - loss: 0.4298 - accuracy: 0.8078 - val_loss: 0.4445 - val_accuracy: 0.8082\n",
      "Epoch 48/50\n",
      "1618/1618 - 37s - loss: 0.4337 - accuracy: 0.8050 - val_loss: 0.4413 - val_accuracy: 0.8091\n",
      "Epoch 49/50\n",
      "1618/1618 - 36s - loss: 0.4245 - accuracy: 0.8121 - val_loss: 0.4399 - val_accuracy: 0.8126\n",
      "Epoch 50/50\n",
      "1618/1618 - 37s - loss: 0.4276 - accuracy: 0.8088 - val_loss: 0.4453 - val_accuracy: 0.8047\n"
     ]
    }
   ],
   "source": [
    "history=model.fit(X_train,y_train,batch_size=4,epochs=50,validation_data=(X_test,y_test),verbose=2)"
   ]
  },
  {
   "cell_type": "code",
   "execution_count": 23,
   "metadata": {},
   "outputs": [],
   "source": [
    "sample_sub = pd.read_csv('../../Project_data/nlp_with_disaster_tweets/sample_submission.csv')"
   ]
  },
  {
   "cell_type": "code",
   "execution_count": 21,
   "metadata": {},
   "outputs": [],
   "source": [
    "y_pre=model.predict(test)\n",
    "y_pre=np.round(y_pre).astype(int).reshape(3263)\n",
    "sub=pd.DataFrame({'id':sample_sub['id'].values.tolist(),'target':y_pre})\n",
    "sub.to_csv('../../Project_data/nlp_with_disaster_tweets/submit/submission.csv',index=False)"
   ]
  }
 ],
 "metadata": {
  "interpreter": {
   "hash": "f1e648b511f995978624ce57c81fec97ef276ceed8c20bc85d5834907df54f6d"
  },
  "kernelspec": {
   "display_name": "Python 3.9.7 64-bit ('base': conda)",
   "language": "python",
   "name": "python3"
  },
  "language_info": {
   "codemirror_mode": {
    "name": "ipython",
    "version": 3
   },
   "file_extension": ".py",
   "mimetype": "text/x-python",
   "name": "python",
   "nbconvert_exporter": "python",
   "pygments_lexer": "ipython3",
   "version": "3.9.7"
  },
  "orig_nbformat": 4
 },
 "nbformat": 4,
 "nbformat_minor": 2
}
