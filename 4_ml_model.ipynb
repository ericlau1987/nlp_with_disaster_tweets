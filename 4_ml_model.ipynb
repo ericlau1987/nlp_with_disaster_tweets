{
 "cells": [
  {
   "cell_type": "code",
   "execution_count": 14,
   "metadata": {},
   "outputs": [],
   "source": [
    "%run package_import.ipynb"
   ]
  },
  {
   "cell_type": "code",
   "execution_count": 20,
   "metadata": {},
   "outputs": [
    {
     "name": "stderr",
     "output_type": "stream",
     "text": [
      "Using TensorFlow backend.\n"
     ]
    }
   ],
   "source": [
    "from nltk.corpus import stopwords\n",
    "from nltk.util import ngrams\n",
    "from sklearn.feature_extraction.text import CountVectorizer\n",
    "stop=set(stopwords.words('english'))\n",
    "from nltk.tokenize import word_tokenize\n",
    "import gensim\n",
    "import string\n",
    "from keras.preprocessing.text import Tokenizer\n",
    "from keras.preprocessing.sequence import pad_sequences\n",
    "from tqdm import tqdm\n",
    "from keras.models import Sequential\n",
    "from keras.layers import Embedding,LSTM,Dense,SpatialDropout1D\n",
    "from keras.initializers import Constant\n",
    "from sklearn.model_selection import train_test_split\n",
    "from keras.optimizers import Adam"
   ]
  },
  {
   "cell_type": "code",
   "execution_count": 12,
   "metadata": {},
   "outputs": [],
   "source": [
    "from sqlalchemy import create_engine\n",
    "import pymysql\n",
    "\n",
    "sqlEngine = create_engine('mysql+pymysql://root:@127.0.0.1/nlp_with_disaster_tweets', pool_recycle=3600)\n",
    "dbConnection = sqlEngine.connect()"
   ]
  },
  {
   "cell_type": "markdown",
   "metadata": {},
   "source": [
    "### Read combined data"
   ]
  },
  {
   "cell_type": "code",
   "execution_count": 58,
   "metadata": {},
   "outputs": [],
   "source": [
    "df_combined = pd.read_sql_query(\n",
    "'''\n",
    "select *\n",
    "from transformed_combination\n",
    "'''\n",
    ",dbConnection)\n",
    "\n",
    "df_train = df_combined[df_combined['source_file']=='train']\n",
    "df_test = df_combined[df_combined['source_file']=='test']"
   ]
  },
  {
   "cell_type": "code",
   "execution_count": 25,
   "metadata": {},
   "outputs": [],
   "source": [
    "def create_corpus(df: pd.DataFrame) ->list:\n",
    "    '''\n",
    "    The function is to convert column \"text\" into a list of words at each row\n",
    "\n",
    "    input:\n",
    "    df: dataframe where text whose words are splited\n",
    "\n",
    "    output:\n",
    "    return a list of words for each row\n",
    "    '''\n",
    "    corpus = []\n",
    "    \n",
    "    for tweet in tqdm(df['text']):\n",
    "        words = [word.lower() for word in word_tokenize(tweet) if (word.isalpha() == 1) & (word not in stop)]\n",
    "\n",
    "        corpus.append(words)\n",
    "\n",
    "    return corpus\n"
   ]
  },
  {
   "cell_type": "code",
   "execution_count": 27,
   "metadata": {},
   "outputs": [
    {
     "name": "stderr",
     "output_type": "stream",
     "text": [
      "100%|██████████| 10876/10876 [00:02<00:00, 5332.82it/s]\n"
     ]
    }
   ],
   "source": [
    "corpus = create_corpus(df_combined)"
   ]
  },
  {
   "cell_type": "markdown",
   "metadata": {},
   "source": [
    "#### Convert glove.6B.100d.txt to a dictionary"
   ]
  },
  {
   "cell_type": "code",
   "execution_count": 48,
   "metadata": {},
   "outputs": [
    {
     "name": "stderr",
     "output_type": "stream",
     "text": [
      "400000it [00:07, 52672.86it/s]\n"
     ]
    }
   ],
   "source": [
    "embedding_dict={}\n",
    "with open('../../Project_data/nlp_with_disaster_tweets/glove.6B.100d.txt','r') as f:\n",
    "    for line in tqdm(f):\n",
    "        values=line.split()\n",
    "        word=values[0]\n",
    "        vectors=np.asarray(values[1:],'float32')\n",
    "        embedding_dict[word]=vectors\n",
    "f.close()"
   ]
  },
  {
   "cell_type": "markdown",
   "metadata": {},
   "source": [
    "<font color='red'> ** Need to understand the following cells ** </font>"
   ]
  },
  {
   "cell_type": "markdown",
   "metadata": {},
   "source": [
    "<a id=\"Summary\"></a>\n",
    "<div class=\"alert alert-block alert-success\">\n",
    "    <font color = 'black'>\n",
    "        <h2>Tokenization</h2>\n",
    "        <h3>What is Tokenization?</h3>\n",
    "    </font>\n",
    "</div>"
   ]
  },
  {
   "cell_type": "code",
   "execution_count": 49,
   "metadata": {},
   "outputs": [],
   "source": [
    "MAX_LEN=50\n",
    "tokenizer_obj=Tokenizer()\n",
    "# Updates internal vocabulary based on a list of texts\n",
    "# fit_on_text: the function is to return the index of each word\n",
    "# by following instructions:\n",
    "# 1. get frequency for each word for the whole list (e.g. corpus)\n",
    "# 2. sort the word by frequency of words by descending\n",
    "# 3. create index by the order of the words' frequency from step 2.\n",
    "# For example, the most frequency of a word is 1 \n",
    "tokenizer_obj.fit_on_texts(corpus)\n",
    "# texts_to_sequences: use the index from the function fit_on_text\n",
    "# to map each word to index\n",
    "sequences=tokenizer_obj.texts_to_sequences(corpus)\n",
    "# make each list extend to max_len. If the number of items is lower than max_len,\n",
    "# append 0 ; else truncating the bottom items until the length of the list same as max_len\n",
    "tweet_pad=pad_sequences(sequences,maxlen=MAX_LEN,truncating='post',padding='post')"
   ]
  },
  {
   "cell_type": "markdown",
   "metadata": {},
   "source": [
    "The following scripts is a simple versioin of function fit_on_text<br>\n",
    "The original one is in the following linke <https://github.com/keras-team/keras-preprocessing/blob/1.1.2/keras_preprocessing/text.py#L199-L251>"
   ]
  },
  {
   "cell_type": "code",
   "execution_count": 157,
   "metadata": {},
   "outputs": [],
   "source": [
    "# document_count = 0\n",
    "# word_counts, word_docs = {}, {}\n",
    "\n",
    "# for text in corpus:\n",
    "#     document_count+=1\n",
    "#     text = [text_elem.lower() for text_elem in text]\n",
    "#     seq = text \n",
    "\n",
    "#     for w in seq:\n",
    "#         if w in word_counts:\n",
    "#             word_counts[w] += 1\n",
    "#         else:\n",
    "#             word_counts[w] = 1\n",
    "\n",
    "#     for w in set(seq):\n",
    "#         if w in word_docs:\n",
    "#             word_docs[w] += 1\n",
    "#         else:\n",
    "#             word_docs[w] = 1\n",
    "# wcounts = list(word_counts.items())\n",
    "# wcounts.sort(key=lambda x: x[1], reverse=True)\n",
    "\n",
    "# sorted_voc = []\n",
    "# sorted_voc.extend(wc[0] for wc in wcounts)\n",
    "\n",
    "# word_index = dict(\n",
    "#             zip(sorted_voc, list(range(1, len(sorted_voc) + 1))))\n",
    "\n",
    "# index_word = {c: w for w, c in word_index.items()}\n",
    "# index_docs={}\n",
    "# for w, c in list(word_docs.items()):\n",
    "#     index_docs[word_index[w]] = c"
   ]
  },
  {
   "cell_type": "code",
   "execution_count": 51,
   "metadata": {},
   "outputs": [
    {
     "name": "stdout",
     "output_type": "stream",
     "text": [
      "Number of unique words: 18736\n"
     ]
    }
   ],
   "source": [
    "word_index=tokenizer_obj.word_index\n",
    "print('Number of unique words:',len(word_index))"
   ]
  },
  {
   "cell_type": "code",
   "execution_count": 52,
   "metadata": {},
   "outputs": [
    {
     "name": "stderr",
     "output_type": "stream",
     "text": [
      "100%|██████████| 18736/18736 [00:00<00:00, 449930.89it/s]\n"
     ]
    }
   ],
   "source": [
    "num_words=len(word_index)+1\n",
    "# create a new array with num_words sub-list and 100 items in the sub-list filled with zero\n",
    "embedding_matrix=np.zeros((num_words,100))\n",
    "\n",
    "# the loop is to fill glove.6B.100d.txt for each word\n",
    "for word,i in tqdm(word_index.items()):\n",
    "    if i > num_words:\n",
    "        continue\n",
    "    \n",
    "    emb_vec=embedding_dict.get(word)\n",
    "    if emb_vec is not None:\n",
    "        embedding_matrix[i]=emb_vec"
   ]
  },
  {
   "cell_type": "markdown",
   "metadata": {},
   "source": [
    "<font color='red'> to be investigated!!!!</font>"
   ]
  },
  {
   "cell_type": "code",
   "execution_count": 54,
   "metadata": {},
   "outputs": [],
   "source": [
    "model=Sequential()\n",
    "\n",
    "embedding=Embedding(num_words,100,embeddings_initializer=Constant(embedding_matrix),\n",
    "                   input_length=MAX_LEN,trainable=False)\n",
    "\n",
    "model.add(embedding)\n",
    "model.add(SpatialDropout1D(0.2))\n",
    "model.add(LSTM(64, dropout=0.2, recurrent_dropout=0.2))\n",
    "model.add(Dense(1, activation='sigmoid'))\n",
    "\n",
    "\n",
    "optimzer=Adam(lr=1e-5)\n",
    "\n",
    "model.compile(loss='binary_crossentropy',optimizer=optimzer,metrics=['accuracy'])"
   ]
  },
  {
   "cell_type": "code",
   "execution_count": 184,
   "metadata": {},
   "outputs": [
    {
     "data": {
      "text/plain": [
       "keras.layers.embeddings.Embedding"
      ]
     },
     "execution_count": 184,
     "metadata": {},
     "output_type": "execute_result"
    }
   ],
   "source": [
    "Embedding"
   ]
  },
  {
   "cell_type": "code",
   "execution_count": 55,
   "metadata": {},
   "outputs": [
    {
     "name": "stdout",
     "output_type": "stream",
     "text": [
      "_________________________________________________________________\n",
      "Layer (type)                 Output Shape              Param #   \n",
      "=================================================================\n",
      "embedding_2 (Embedding)      (None, 50, 100)           1873700   \n",
      "_________________________________________________________________\n",
      "spatial_dropout1d_2 (Spatial (None, 50, 100)           0         \n",
      "_________________________________________________________________\n",
      "lstm_2 (LSTM)                (None, 64)                42240     \n",
      "_________________________________________________________________\n",
      "dense_2 (Dense)              (None, 1)                 65        \n",
      "=================================================================\n",
      "Total params: 1,916,005\n",
      "Trainable params: 42,305\n",
      "Non-trainable params: 1,873,700\n",
      "_________________________________________________________________\n"
     ]
    }
   ],
   "source": [
    "model.summary()"
   ]
  },
  {
   "cell_type": "code",
   "execution_count": 97,
   "metadata": {},
   "outputs": [],
   "source": [
    "train=tweet_pad[:df_train.shape[0]]\n",
    "test=tweet_pad[df_train.shape[0]:]"
   ]
  },
  {
   "cell_type": "code",
   "execution_count": 98,
   "metadata": {},
   "outputs": [
    {
     "name": "stdout",
     "output_type": "stream",
     "text": [
      "Shape of train (6471, 50)\n",
      "Shape of Validation  (1142, 50)\n"
     ]
    }
   ],
   "source": [
    "X_train,X_test,y_train,y_test=train_test_split(train,df_train['target'].values,test_size=0.15)\n",
    "print('Shape of train',X_train.shape)\n",
    "print(\"Shape of Validation \",X_test.shape)"
   ]
  },
  {
   "cell_type": "code",
   "execution_count": 99,
   "metadata": {},
   "outputs": [
    {
     "name": "stdout",
     "output_type": "stream",
     "text": [
      "Train on 6471 samples, validate on 1142 samples\n",
      "Epoch 1/15\n",
      " - 94s - loss: 0.5334 - acc: 0.7594 - val_loss: 0.4858 - val_acc: 0.7820\n",
      "Epoch 2/15\n",
      " - 94s - loss: 0.5381 - acc: 0.7578 - val_loss: 0.4857 - val_acc: 0.7820\n",
      "Epoch 3/15\n",
      " - 93s - loss: 0.5328 - acc: 0.7643 - val_loss: 0.4876 - val_acc: 0.7820\n",
      "Epoch 4/15\n",
      " - 95s - loss: 0.5304 - acc: 0.7606 - val_loss: 0.4871 - val_acc: 0.7820\n",
      "Epoch 5/15\n",
      " - 94s - loss: 0.5224 - acc: 0.7691 - val_loss: 0.4861 - val_acc: 0.7828\n",
      "Epoch 6/15\n",
      " - 93s - loss: 0.5290 - acc: 0.7665 - val_loss: 0.4867 - val_acc: 0.7846\n",
      "Epoch 7/15\n",
      " - 92s - loss: 0.5271 - acc: 0.7668 - val_loss: 0.4862 - val_acc: 0.7846\n",
      "Epoch 8/15\n",
      " - 93s - loss: 0.5247 - acc: 0.7639 - val_loss: 0.4864 - val_acc: 0.7855\n",
      "Epoch 9/15\n",
      " - 92s - loss: 0.5184 - acc: 0.7711 - val_loss: 0.4868 - val_acc: 0.7820\n",
      "Epoch 10/15\n",
      " - 94s - loss: 0.5226 - acc: 0.7659 - val_loss: 0.4859 - val_acc: 0.7820\n",
      "Epoch 11/15\n",
      " - 94s - loss: 0.5316 - acc: 0.7583 - val_loss: 0.4852 - val_acc: 0.7855\n",
      "Epoch 12/15\n",
      " - 93s - loss: 0.5167 - acc: 0.7721 - val_loss: 0.4875 - val_acc: 0.7846\n",
      "Epoch 13/15\n",
      " - 94s - loss: 0.5195 - acc: 0.7725 - val_loss: 0.4881 - val_acc: 0.7872\n",
      "Epoch 14/15\n",
      " - 94s - loss: 0.5223 - acc: 0.7696 - val_loss: 0.4845 - val_acc: 0.7881\n",
      "Epoch 15/15\n",
      " - 92s - loss: 0.5182 - acc: 0.7731 - val_loss: 0.4829 - val_acc: 0.7898\n"
     ]
    }
   ],
   "source": [
    "history=model.fit(X_train,y_train,batch_size=4,epochs=15,validation_data=(X_test,y_test),verbose=2)"
   ]
  },
  {
   "cell_type": "code",
   "execution_count": 100,
   "metadata": {},
   "outputs": [],
   "source": [
    "sample_sub = pd.read_csv('../../Project_data/nlp_with_disaster_tweets/sample_submission.csv')"
   ]
  },
  {
   "cell_type": "code",
   "execution_count": 106,
   "metadata": {},
   "outputs": [],
   "source": [
    "y_pre=model.predict(test)\n",
    "y_pre=np.round(y_pre).astype(int).reshape(3263)\n",
    "sub=pd.DataFrame({'id':sample_sub['id'].values.tolist(),'target':y_pre})\n",
    "sub.to_csv('./submit/submission.csv',index=False)"
   ]
  }
 ],
 "metadata": {
  "interpreter": {
   "hash": "f1e648b511f995978624ce57c81fec97ef276ceed8c20bc85d5834907df54f6d"
  },
  "kernelspec": {
   "display_name": "Python 3.9.7 64-bit ('base': conda)",
   "language": "python",
   "name": "python3"
  },
  "language_info": {
   "codemirror_mode": {
    "name": "ipython",
    "version": 3
   },
   "file_extension": ".py",
   "mimetype": "text/x-python",
   "name": "python",
   "nbconvert_exporter": "python",
   "pygments_lexer": "ipython3",
   "version": "3.5.6"
  },
  "orig_nbformat": 4
 },
 "nbformat": 4,
 "nbformat_minor": 2
}
